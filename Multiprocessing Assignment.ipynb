{
 "cells": [
  {
   "cell_type": "markdown",
   "id": "aca7300d-f803-4183-b279-1eac713f4d48",
   "metadata": {},
   "source": [
    "Q1. What is multiprocessing in python? Why is it useful?"
   ]
  },
  {
   "cell_type": "markdown",
   "id": "59ac935b-5dc2-41d7-8939-7b4023c93646",
   "metadata": {},
   "source": [
    "Multiprocessing refers to the ability of a system to support multiple processes running concurrently. Each process has its own memory space and python interpreter, allowing for parallel execution and leveraaging multiple CPU cores for improved performance.\n",
    "In Multipleprocessing module in python provides a way to create and manage multiple processes.\n",
    "It uses simple coading that's easy to understand. It helps you overcome global interpreter lock (GIL) limitations in python.\n"
   ]
  },
  {
   "cell_type": "markdown",
   "id": "057ee7d5-9e7a-483f-9c65-2c69049ab3c7",
   "metadata": {},
   "source": [
    "Q2. What are the differences between multiprocessing and multithreading?"
   ]
  },
  {
   "cell_type": "markdown",
   "id": "c896722f-c3bb-4fae-959e-d8796c36a1c9",
   "metadata": {},
   "source": [
    "Multiprocessing involves using multiple processors or CPUs in a single system to increase computing speed on the other hand Multithreading involves creating multiple threads of a process to increase the computing speed of the system\n",
    "In multiprocessing, multiple processes are executed simultaneously, with each process running on a seprate processor on the other hand, in multithreading multiple thread of a single process are executed simultaneously"
   ]
  },
  {
   "cell_type": "markdown",
   "id": "1faf3a05-1453-49a5-9ce8-b8a378dcc1c5",
   "metadata": {},
   "source": [
    "Q3. Write a python code to create a process using the multiprocessing module."
   ]
  },
  {
   "cell_type": "code",
   "execution_count": 14,
   "id": "fbc09210-b3d7-4c54-92e5-7c04841ddc34",
   "metadata": {},
   "outputs": [
    {
     "name": "stdout",
     "output_type": "stream",
     "text": [
      "1\n",
      "41\n",
      "\n",
      "98\n",
      "\n",
      "1627\n",
      "\n",
      "2564\n",
      "\n",
      "125\n"
     ]
    }
   ],
   "source": [
    "import multiprocessing\n",
    "\n",
    "def cal_square(numbers):\n",
    "    for n in numbers:\n",
    "        print(n*n)\n",
    "\n",
    "def cal_cube(numbers):\n",
    "    for n in numbers:\n",
    "        print(n*n*n)\n",
    "\n",
    "if __name__ == \"__main__\":\n",
    "    \n",
    "    arr=[1,2,3,4,5]\n",
    "    p1=multiprocessing.Process(target=cal_square, args=(arr,))\n",
    "    p2=multiprocessing.Process(target=cal_cube, args=(arr,))\n",
    "    p1.start()\n",
    "    p2.start()\n",
    "    p1.join()\n",
    "    p2.join()"
   ]
  },
  {
   "cell_type": "code",
   "execution_count": 30,
   "id": "36e9552a-2fe1-45e8-a3c8-77939d13a38a",
   "metadata": {},
   "outputs": [
    {
     "name": "stdout",
     "output_type": "stream",
     "text": [
      "Square: 25Cube:\n",
      " 125\n",
      "Done\n"
     ]
    }
   ],
   "source": [
    "import multiprocessing\n",
    "\n",
    "def calc_square(numbers):\n",
    "    for n in numbers:\n",
    "        print('Square:', n * n)\n",
    "\n",
    "def calc_cube(numbers):\n",
    "    for n in numbers:\n",
    "        print('Cube:', n * n * n)\n",
    "\n",
    "if __name__ == \"__main__\":\n",
    "    \n",
    "    numbers = [5]\n",
    "\n",
    "    p1 = multiprocessing.Process(target=calc_square, args=(numbers,))\n",
    "    p2 = multiprocessing.Process(target=calc_cube, args=(numbers,))\n",
    "\n",
    "    p1.start()\n",
    "    p2.start()\n",
    "    \n",
    "    p1.join()\n",
    "    p2.join()\n",
    "\n",
    "    print(\"Done\")\n"
   ]
  },
  {
   "cell_type": "markdown",
   "id": "13cf8231-6e97-4094-8cbf-1c29a2ed278a",
   "metadata": {},
   "source": [
    "Q4. What is a multiprocessing pool in python? Why is it used?"
   ]
  },
  {
   "cell_type": "markdown",
   "id": "d5cb1644-dc02-451c-ad37-778bb108f9b4",
   "metadata": {},
   "source": [
    "A multiprocessing pool in Pyhton is a feature provided  by the multiprocessing module that allows for the parallel execution of a function across multiple input values. It provides a convienient way to distribute the workload across multiple processes, enabling data parallelism.\n",
    "\n",
    "The advantages of using multiprocessing pool is Parallel Execution, Data Parallelism, Simplefied API."
   ]
  },
  {
   "cell_type": "markdown",
   "id": "31840c6f-f654-4de9-ad20-8e4bedfc96fe",
   "metadata": {},
   "source": [
    "Q5. How can we create a pool of worker processes in python using the multiprocessing module?"
   ]
  },
  {
   "cell_type": "code",
   "execution_count": 4,
   "id": "0ec7353b-56a6-4aec-8299-c02eab6a4cc6",
   "metadata": {},
   "outputs": [
    {
     "name": "stdout",
     "output_type": "stream",
     "text": [
      "[2, 4, 6, 8, 10]\n"
     ]
    }
   ],
   "source": [
    "import multiprocessing\n",
    "\n",
    "def worker_function(number):\n",
    "    \"\"\"Function to be executed by worker processes\"\"\"\n",
    "    result = number * 2\n",
    "    return result\n",
    "\n",
    "if __name__ == '__main__':\n",
    "    \n",
    "    with multiprocessing.Pool() as pool:\n",
    "        \n",
    "        numbers = [1, 2, 3, 4, 5]\n",
    "        results = pool.map(worker_function, numbers)\n",
    "\n",
    "    print(results)\n"
   ]
  },
  {
   "cell_type": "markdown",
   "id": "4407428e-b9f2-4b81-a956-79034e26af8c",
   "metadata": {},
   "source": [
    "Q6. Write a python program to create 4 processes, each process should print a different number using the\n",
    "multiprocessing module in python."
   ]
  },
  {
   "cell_type": "code",
   "execution_count": 15,
   "id": "af6d9f1a-4479-4603-8515-0203814d21e8",
   "metadata": {},
   "outputs": [
    {
     "name": "stdout",
     "output_type": "stream",
     "text": [
      "3421\n",
      "\n",
      "\n",
      "\n"
     ]
    }
   ],
   "source": [
    "import multiprocessing\n",
    "def print_number(number):\n",
    "    print(number)\n",
    "if __name__ == \"__main__\":\n",
    "    numbers = [1, 2, 3, 4]\n",
    "    with multiprocessing.Pool(processes=4) as pool:\n",
    "        pool.map(print_number, numbers)\n"
   ]
  },
  {
   "cell_type": "code",
   "execution_count": null,
   "id": "9e717112-957e-4f2f-bd05-137f32e0914e",
   "metadata": {},
   "outputs": [],
   "source": []
  }
 ],
 "metadata": {
  "kernelspec": {
   "display_name": "Python 3 (ipykernel)",
   "language": "python",
   "name": "python3"
  },
  "language_info": {
   "codemirror_mode": {
    "name": "ipython",
    "version": 3
   },
   "file_extension": ".py",
   "mimetype": "text/x-python",
   "name": "python",
   "nbconvert_exporter": "python",
   "pygments_lexer": "ipython3",
   "version": "3.10.8"
  }
 },
 "nbformat": 4,
 "nbformat_minor": 5
}
